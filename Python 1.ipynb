{
 "cells": [
  {
   "cell_type": "code",
   "execution_count": 1,
   "id": "ea455b2a",
   "metadata": {},
   "outputs": [
    {
     "name": "stdout",
     "output_type": "stream",
     "text": [
      "hello world\n"
     ]
    }
   ],
   "source": [
    "print('hello world')"
   ]
  },
  {
   "cell_type": "code",
   "execution_count": 2,
   "id": "1f88f159",
   "metadata": {},
   "outputs": [
    {
     "name": "stdout",
     "output_type": "stream",
     "text": [
      "150\n"
     ]
    }
   ],
   "source": [
    "print(150)"
   ]
  },
  {
   "cell_type": "code",
   "execution_count": 3,
   "id": "a1ef90f3",
   "metadata": {},
   "outputs": [
    {
     "name": "stdout",
     "output_type": "stream",
     "text": [
      "data science\n"
     ]
    }
   ],
   "source": [
    "print('data science')"
   ]
  },
  {
   "cell_type": "code",
   "execution_count": 5,
   "id": "08dc1e57",
   "metadata": {},
   "outputs": [
    {
     "name": "stdout",
     "output_type": "stream",
     "text": [
      "100 machine data 1.56 True\n"
     ]
    }
   ],
   "source": [
    "print(100, 'machine', 'data', 1.56, True)"
   ]
  },
  {
   "cell_type": "code",
   "execution_count": 6,
   "id": "d3d9be7c",
   "metadata": {},
   "outputs": [
    {
     "name": "stdout",
     "output_type": "stream",
     "text": [
      "power bi\n"
     ]
    }
   ],
   "source": [
    "print('power bi')"
   ]
  },
  {
   "cell_type": "code",
   "execution_count": 7,
   "id": "6c9eec40",
   "metadata": {},
   "outputs": [
    {
     "name": "stdout",
     "output_type": "stream",
     "text": [
      "sql\n"
     ]
    }
   ],
   "source": [
    "print('sql')"
   ]
  },
  {
   "cell_type": "code",
   "execution_count": null,
   "id": "0689a39e",
   "metadata": {},
   "outputs": [],
   "source": []
  },
  {
   "cell_type": "code",
   "execution_count": 10,
   "id": "2094b4af",
   "metadata": {},
   "outputs": [],
   "source": [
    "# comments , this is a comment this will not be executed"
   ]
  },
  {
   "cell_type": "code",
   "execution_count": 9,
   "id": "9a67ca6e",
   "metadata": {},
   "outputs": [],
   "source": [
    "# variables"
   ]
  },
  {
   "cell_type": "code",
   "execution_count": 11,
   "id": "ace983f0",
   "metadata": {},
   "outputs": [],
   "source": [
    "t = 120"
   ]
  },
  {
   "cell_type": "code",
   "execution_count": 12,
   "id": "c57b362a",
   "metadata": {},
   "outputs": [],
   "source": [
    "r = \"python is fun\""
   ]
  },
  {
   "cell_type": "code",
   "execution_count": 13,
   "id": "a391f8e3",
   "metadata": {},
   "outputs": [],
   "source": [
    "w = 3.9"
   ]
  },
  {
   "cell_type": "code",
   "execution_count": 14,
   "id": "4a533eb8",
   "metadata": {},
   "outputs": [],
   "source": [
    "b = True"
   ]
  },
  {
   "cell_type": "code",
   "execution_count": 15,
   "id": "7f606c80",
   "metadata": {},
   "outputs": [],
   "source": [
    "H = 12"
   ]
  },
  {
   "cell_type": "code",
   "execution_count": 16,
   "id": "4482d809",
   "metadata": {},
   "outputs": [],
   "source": [
    "t = 'sql'"
   ]
  },
  {
   "cell_type": "code",
   "execution_count": 17,
   "id": "c409a1b6",
   "metadata": {},
   "outputs": [],
   "source": [
    "H_p_12 = 'python'"
   ]
  },
  {
   "cell_type": "code",
   "execution_count": 19,
   "id": "328c01e5",
   "metadata": {},
   "outputs": [
    {
     "ename": "SyntaxError",
     "evalue": "invalid decimal literal (2105015748.py, line 1)",
     "output_type": "error",
     "traceback": [
      "\u001b[1;36m  Cell \u001b[1;32mIn[19], line 1\u001b[1;36m\u001b[0m\n\u001b[1;33m    12_g = 'data' #error because this cannot be started with digits\u001b[0m\n\u001b[1;37m      ^\u001b[0m\n\u001b[1;31mSyntaxError\u001b[0m\u001b[1;31m:\u001b[0m invalid decimal literal\n"
     ]
    }
   ],
   "source": [
    "12_g = 'data' #error because this cannot be started with digits"
   ]
  },
  {
   "cell_type": "code",
   "execution_count": 1,
   "id": "44fabbd9",
   "metadata": {},
   "outputs": [
    {
     "ename": "SyntaxError",
     "evalue": "cannot assign to literal here. Maybe you meant '==' instead of '='? (1128031479.py, line 1)",
     "output_type": "error",
     "traceback": [
      "\u001b[1;36m  Cell \u001b[1;32mIn[1], line 1\u001b[1;36m\u001b[0m\n\u001b[1;33m    @2 = 45 #neither with @#$\u001b[0m\n\u001b[1;37m     ^\u001b[0m\n\u001b[1;31mSyntaxError\u001b[0m\u001b[1;31m:\u001b[0m cannot assign to literal here. Maybe you meant '==' instead of '='?\n"
     ]
    }
   ],
   "source": [
    "@2 = 45 #neither with @#$"
   ]
  },
  {
   "cell_type": "code",
   "execution_count": 22,
   "id": "bd876d33",
   "metadata": {},
   "outputs": [],
   "source": [
    "_a = 12"
   ]
  },
  {
   "cell_type": "code",
   "execution_count": 23,
   "id": "91bdbd1f",
   "metadata": {},
   "outputs": [
    {
     "data": {
      "text/plain": [
       "int"
      ]
     },
     "execution_count": 23,
     "metadata": {},
     "output_type": "execute_result"
    }
   ],
   "source": [
    "type(_a)"
   ]
  },
  {
   "cell_type": "code",
   "execution_count": 24,
   "id": "8131eb11",
   "metadata": {
    "scrolled": true
   },
   "outputs": [
    {
     "ename": "SyntaxError",
     "evalue": "cannot assign to literal here. Maybe you meant '==' instead of '='? (191010377.py, line 1)",
     "output_type": "error",
     "traceback": [
      "\u001b[1;36m  Cell \u001b[1;32mIn[24], line 1\u001b[1;36m\u001b[0m\n\u001b[1;33m    @1 = 56\u001b[0m\n\u001b[1;37m     ^\u001b[0m\n\u001b[1;31mSyntaxError\u001b[0m\u001b[1;31m:\u001b[0m cannot assign to literal here. Maybe you meant '==' instead of '='?\n"
     ]
    }
   ],
   "source": []
  },
  {
   "cell_type": "code",
   "execution_count": 25,
   "id": "d008d9fc",
   "metadata": {},
   "outputs": [
    {
     "data": {
      "text/plain": [
       "str"
      ]
     },
     "execution_count": 25,
     "metadata": {},
     "output_type": "execute_result"
    }
   ],
   "source": [
    "type(r)"
   ]
  },
  {
   "cell_type": "code",
   "execution_count": 26,
   "id": "91248d97",
   "metadata": {},
   "outputs": [
    {
     "data": {
      "text/plain": [
       "1963770788016"
      ]
     },
     "execution_count": 26,
     "metadata": {},
     "output_type": "execute_result"
    }
   ],
   "source": [
    "id(r)"
   ]
  },
  {
   "cell_type": "markdown",
   "id": "efa39769",
   "metadata": {},
   "source": [
    "Data Types"
   ]
  },
  {
   "cell_type": "markdown",
   "id": "3bb84fec",
   "metadata": {},
   "source": [
    "- integer\n",
    "- Float\n",
    "- Boolean\n",
    "- Complex Numbers\n",
    "- None\n",
    "- String"
   ]
  },
  {
   "cell_type": "code",
   "execution_count": 30,
   "id": "1ebead7f",
   "metadata": {},
   "outputs": [],
   "source": [
    "i = 45"
   ]
  },
  {
   "cell_type": "code",
   "execution_count": 31,
   "id": "213fe019",
   "metadata": {},
   "outputs": [
    {
     "data": {
      "text/plain": [
       "int"
      ]
     },
     "execution_count": 31,
     "metadata": {},
     "output_type": "execute_result"
    }
   ],
   "source": [
    "type(i)"
   ]
  },
  {
   "cell_type": "code",
   "execution_count": 32,
   "id": "e4d4777b",
   "metadata": {},
   "outputs": [
    {
     "data": {
      "text/plain": [
       "1963658184304"
      ]
     },
     "execution_count": 32,
     "metadata": {},
     "output_type": "execute_result"
    }
   ],
   "source": [
    "id(i)"
   ]
  },
  {
   "cell_type": "code",
   "execution_count": 33,
   "id": "f715c806",
   "metadata": {},
   "outputs": [],
   "source": [
    "j = 45+1j"
   ]
  },
  {
   "cell_type": "code",
   "execution_count": 34,
   "id": "ca0ab06e",
   "metadata": {},
   "outputs": [
    {
     "data": {
      "text/plain": [
       "complex"
      ]
     },
     "execution_count": 34,
     "metadata": {},
     "output_type": "execute_result"
    }
   ],
   "source": [
    "type(j)"
   ]
  },
  {
   "cell_type": "code",
   "execution_count": 35,
   "id": "7959cc52",
   "metadata": {},
   "outputs": [
    {
     "data": {
      "text/plain": [
       "1963784651248"
      ]
     },
     "execution_count": 35,
     "metadata": {},
     "output_type": "execute_result"
    }
   ],
   "source": [
    "id(j)"
   ]
  },
  {
   "cell_type": "code",
   "execution_count": 36,
   "id": "44618dde",
   "metadata": {},
   "outputs": [],
   "source": [
    "r = 12.3"
   ]
  },
  {
   "cell_type": "code",
   "execution_count": 37,
   "id": "ad61a050",
   "metadata": {},
   "outputs": [
    {
     "name": "stdout",
     "output_type": "stream",
     "text": [
      "<class 'float'>\n"
     ]
    }
   ],
   "source": [
    "print(type(r))"
   ]
  },
  {
   "cell_type": "code",
   "execution_count": 38,
   "id": "45194ec2",
   "metadata": {},
   "outputs": [
    {
     "data": {
      "text/plain": [
       "float"
      ]
     },
     "execution_count": 38,
     "metadata": {},
     "output_type": "execute_result"
    }
   ],
   "source": [
    "type(r)"
   ]
  },
  {
   "cell_type": "code",
   "execution_count": 39,
   "id": "8fee771d",
   "metadata": {},
   "outputs": [],
   "source": [
    "h = True # False"
   ]
  },
  {
   "cell_type": "code",
   "execution_count": 40,
   "id": "24a5d000",
   "metadata": {},
   "outputs": [
    {
     "data": {
      "text/plain": [
       "bool"
      ]
     },
     "execution_count": 40,
     "metadata": {},
     "output_type": "execute_result"
    }
   ],
   "source": [
    "type(h)"
   ]
  },
  {
   "cell_type": "code",
   "execution_count": 41,
   "id": "80d6f0b2",
   "metadata": {},
   "outputs": [
    {
     "name": "stdout",
     "output_type": "stream",
     "text": [
      "<class 'bool'>\n"
     ]
    }
   ],
   "source": [
    "print(type(h))"
   ]
  },
  {
   "cell_type": "code",
   "execution_count": 42,
   "id": "dc169c01",
   "metadata": {},
   "outputs": [],
   "source": [
    "g = 234"
   ]
  },
  {
   "cell_type": "code",
   "execution_count": 43,
   "id": "a7134458",
   "metadata": {},
   "outputs": [
    {
     "data": {
      "text/plain": [
       "1963658190352"
      ]
     },
     "execution_count": 43,
     "metadata": {},
     "output_type": "execute_result"
    }
   ],
   "source": [
    "id(g)"
   ]
  },
  {
   "cell_type": "code",
   "execution_count": 44,
   "id": "1f930a32",
   "metadata": {},
   "outputs": [
    {
     "data": {
      "text/plain": [
       "int"
      ]
     },
     "execution_count": 44,
     "metadata": {},
     "output_type": "execute_result"
    }
   ],
   "source": [
    "type(g)"
   ]
  },
  {
   "cell_type": "code",
   "execution_count": 45,
   "id": "a58fba0c",
   "metadata": {},
   "outputs": [
    {
     "data": {
      "text/plain": [
       "0"
      ]
     },
     "execution_count": 45,
     "metadata": {},
     "output_type": "execute_result"
    }
   ],
   "source": [
    "g.imag"
   ]
  },
  {
   "cell_type": "code",
   "execution_count": 47,
   "id": "38269f9f",
   "metadata": {},
   "outputs": [
    {
     "data": {
      "text/plain": [
       "234"
      ]
     },
     "execution_count": 47,
     "metadata": {},
     "output_type": "execute_result"
    }
   ],
   "source": [
    "g.conjugate()"
   ]
  },
  {
   "cell_type": "code",
   "execution_count": 48,
   "id": "942f0486",
   "metadata": {},
   "outputs": [
    {
     "data": {
      "text/plain": [
       "234"
      ]
     },
     "execution_count": 48,
     "metadata": {},
     "output_type": "execute_result"
    }
   ],
   "source": [
    "g.real"
   ]
  },
  {
   "cell_type": "code",
   "execution_count": 49,
   "id": "af034db1",
   "metadata": {},
   "outputs": [],
   "source": [
    "#python is dynamic in nature"
   ]
  },
  {
   "cell_type": "code",
   "execution_count": 50,
   "id": "4d55253d",
   "metadata": {},
   "outputs": [],
   "source": [
    "t = 102"
   ]
  },
  {
   "cell_type": "code",
   "execution_count": 51,
   "id": "f3872b40",
   "metadata": {},
   "outputs": [
    {
     "data": {
      "text/plain": [
       "int"
      ]
     },
     "execution_count": 51,
     "metadata": {},
     "output_type": "execute_result"
    }
   ],
   "source": [
    "type(t)"
   ]
  },
  {
   "cell_type": "code",
   "execution_count": 52,
   "id": "262259c8",
   "metadata": {},
   "outputs": [],
   "source": [
    "t = 'data science'"
   ]
  },
  {
   "cell_type": "code",
   "execution_count": 53,
   "id": "d5ac2ad2",
   "metadata": {},
   "outputs": [
    {
     "data": {
      "text/plain": [
       "str"
      ]
     },
     "execution_count": 53,
     "metadata": {},
     "output_type": "execute_result"
    }
   ],
   "source": [
    "type(t)"
   ]
  },
  {
   "cell_type": "code",
   "execution_count": 54,
   "id": "4cfb9e83",
   "metadata": {},
   "outputs": [],
   "source": [
    "t = 23.5"
   ]
  },
  {
   "cell_type": "code",
   "execution_count": 55,
   "id": "35e5496d",
   "metadata": {},
   "outputs": [
    {
     "data": {
      "text/plain": [
       "float"
      ]
     },
     "execution_count": 55,
     "metadata": {},
     "output_type": "execute_result"
    }
   ],
   "source": [
    "type(t)"
   ]
  },
  {
   "cell_type": "code",
   "execution_count": 56,
   "id": "85e9e746",
   "metadata": {},
   "outputs": [],
   "source": [
    "l = 34+232j"
   ]
  },
  {
   "cell_type": "code",
   "execution_count": 57,
   "id": "ec0b21fb",
   "metadata": {},
   "outputs": [
    {
     "data": {
      "text/plain": [
       "(34-232j)"
      ]
     },
     "execution_count": 57,
     "metadata": {},
     "output_type": "execute_result"
    }
   ],
   "source": [
    "l.conjugate()"
   ]
  },
  {
   "cell_type": "code",
   "execution_count": 58,
   "id": "7cd35f6e",
   "metadata": {},
   "outputs": [
    {
     "data": {
      "text/plain": [
       "232.0"
      ]
     },
     "execution_count": 58,
     "metadata": {},
     "output_type": "execute_result"
    }
   ],
   "source": [
    "l.imag"
   ]
  },
  {
   "cell_type": "code",
   "execution_count": 59,
   "id": "db3d87bf",
   "metadata": {},
   "outputs": [
    {
     "data": {
      "text/plain": [
       "34.0"
      ]
     },
     "execution_count": 59,
     "metadata": {},
     "output_type": "execute_result"
    }
   ],
   "source": [
    "l.real"
   ]
  },
  {
   "cell_type": "code",
   "execution_count": null,
   "id": "bbbf6755",
   "metadata": {},
   "outputs": [],
   "source": []
  },
  {
   "cell_type": "code",
   "execution_count": 60,
   "id": "8627e7e7",
   "metadata": {},
   "outputs": [],
   "source": [
    "# Input # Default string"
   ]
  },
  {
   "cell_type": "code",
   "execution_count": 61,
   "id": "608cd942",
   "metadata": {},
   "outputs": [
    {
     "name": "stdout",
     "output_type": "stream",
     "text": [
      "enter your name:345\n"
     ]
    }
   ],
   "source": [
    "name = input(\"enter your name:\")"
   ]
  },
  {
   "cell_type": "code",
   "execution_count": 62,
   "id": "06ce78e4",
   "metadata": {},
   "outputs": [
    {
     "name": "stdout",
     "output_type": "stream",
     "text": [
      "345\n"
     ]
    }
   ],
   "source": [
    "print(name)"
   ]
  },
  {
   "cell_type": "code",
   "execution_count": 2,
   "id": "6dfcde00",
   "metadata": {},
   "outputs": [
    {
     "name": "stdout",
     "output_type": "stream",
     "text": [
      "enter your age:23\n"
     ]
    }
   ],
   "source": [
    "age = input('enter your age:')"
   ]
  },
  {
   "cell_type": "code",
   "execution_count": 3,
   "id": "be2ca151",
   "metadata": {},
   "outputs": [
    {
     "name": "stdout",
     "output_type": "stream",
     "text": [
      "23\n"
     ]
    }
   ],
   "source": [
    "print(age)"
   ]
  },
  {
   "cell_type": "code",
   "execution_count": 65,
   "id": "8c5566fb",
   "metadata": {},
   "outputs": [
    {
     "data": {
      "text/plain": [
       "str"
      ]
     },
     "execution_count": 65,
     "metadata": {},
     "output_type": "execute_result"
    }
   ],
   "source": [
    "type(age)"
   ]
  },
  {
   "cell_type": "code",
   "execution_count": 66,
   "id": "609552f5",
   "metadata": {},
   "outputs": [],
   "source": [
    "#type casting - converting one data type into another"
   ]
  },
  {
   "cell_type": "code",
   "execution_count": 67,
   "id": "14fa0db9",
   "metadata": {},
   "outputs": [
    {
     "name": "stdout",
     "output_type": "stream",
     "text": [
      "enter your age:23\n"
     ]
    }
   ],
   "source": [
    "age = int(input('enter your age:'))"
   ]
  },
  {
   "cell_type": "code",
   "execution_count": 68,
   "id": "cc9ffb85",
   "metadata": {},
   "outputs": [
    {
     "name": "stdout",
     "output_type": "stream",
     "text": [
      "enter your mobile number:1233556789\n"
     ]
    }
   ],
   "source": [
    "k = input('enter your mobile number:')"
   ]
  },
  {
   "cell_type": "code",
   "execution_count": 69,
   "id": "0207de99",
   "metadata": {},
   "outputs": [
    {
     "data": {
      "text/plain": [
       "str"
      ]
     },
     "execution_count": 69,
     "metadata": {},
     "output_type": "execute_result"
    }
   ],
   "source": [
    "type(k)"
   ]
  },
  {
   "cell_type": "code",
   "execution_count": 70,
   "id": "41f64eab",
   "metadata": {},
   "outputs": [],
   "source": [
    "k = int(k)"
   ]
  },
  {
   "cell_type": "code",
   "execution_count": 71,
   "id": "19a6ad97",
   "metadata": {},
   "outputs": [
    {
     "data": {
      "text/plain": [
       "int"
      ]
     },
     "execution_count": 71,
     "metadata": {},
     "output_type": "execute_result"
    }
   ],
   "source": [
    "type(k)"
   ]
  },
  {
   "cell_type": "code",
   "execution_count": 73,
   "id": "f50e5b24",
   "metadata": {},
   "outputs": [],
   "source": [
    "k = float(k)"
   ]
  },
  {
   "cell_type": "code",
   "execution_count": 74,
   "id": "7845f75d",
   "metadata": {},
   "outputs": [
    {
     "data": {
      "text/plain": [
       "float"
      ]
     },
     "execution_count": 74,
     "metadata": {},
     "output_type": "execute_result"
    }
   ],
   "source": [
    "type(k)"
   ]
  },
  {
   "cell_type": "code",
   "execution_count": 75,
   "id": "f3bbf621",
   "metadata": {},
   "outputs": [
    {
     "name": "stdout",
     "output_type": "stream",
     "text": [
      "1233556789.0\n"
     ]
    }
   ],
   "source": [
    "print(k)"
   ]
  },
  {
   "cell_type": "markdown",
   "id": "00548e9d",
   "metadata": {},
   "source": [
    "#OPERATORS AND EXPRESSIONS"
   ]
  },
  {
   "cell_type": "code",
   "execution_count": 3,
   "id": "8b47e7b8",
   "metadata": {},
   "outputs": [],
   "source": [
    "#y = 8*x+6   # * / + = operators\n",
    "             # 8 / 6 operands"
   ]
  },
  {
   "cell_type": "markdown",
   "id": "ecf7776e",
   "metadata": {},
   "source": [
    "1. Arithmetic operators ==+,-,*,/,//,**,%\n",
    "2. Comparison operators == > , >= , <,<= , == , !=\n",
    "3. logical operators == AND , OR , NOT\n",
    "4. Bitwise operators == Bitwise AND , Bitwise OR , Bitwise XOR\n",
    "5. Assignment operators ==+=, -= , *= , /= , //= , **"
   ]
  },
  {
   "cell_type": "code",
   "execution_count": 4,
   "id": "44f5f845",
   "metadata": {},
   "outputs": [
    {
     "data": {
      "text/plain": [
       "15"
      ]
     },
     "execution_count": 4,
     "metadata": {},
     "output_type": "execute_result"
    }
   ],
   "source": [
    "12+3"
   ]
  },
  {
   "cell_type": "code",
   "execution_count": 5,
   "id": "dc9b87dd",
   "metadata": {},
   "outputs": [
    {
     "data": {
      "text/plain": [
       "10"
      ]
     },
     "execution_count": 5,
     "metadata": {},
     "output_type": "execute_result"
    }
   ],
   "source": [
    "15-5"
   ]
  },
  {
   "cell_type": "code",
   "execution_count": 6,
   "id": "b4de0f6c",
   "metadata": {},
   "outputs": [
    {
     "data": {
      "text/plain": [
       "20"
      ]
     },
     "execution_count": 6,
     "metadata": {},
     "output_type": "execute_result"
    }
   ],
   "source": [
    "10*2"
   ]
  },
  {
   "cell_type": "code",
   "execution_count": 8,
   "id": "35f86fb1",
   "metadata": {},
   "outputs": [
    {
     "data": {
      "text/plain": [
       "6.0"
      ]
     },
     "execution_count": 8,
     "metadata": {},
     "output_type": "execute_result"
    }
   ],
   "source": [
    "12/2   #normal division"
   ]
  },
  {
   "cell_type": "code",
   "execution_count": 10,
   "id": "b5cd8e11",
   "metadata": {},
   "outputs": [
    {
     "data": {
      "text/plain": [
       "6"
      ]
     },
     "execution_count": 10,
     "metadata": {},
     "output_type": "execute_result"
    }
   ],
   "source": [
    "12//2  #floor division"
   ]
  },
  {
   "cell_type": "code",
   "execution_count": 11,
   "id": "ef6f751d",
   "metadata": {},
   "outputs": [
    {
     "data": {
      "text/plain": [
       "2.4"
      ]
     },
     "execution_count": 11,
     "metadata": {},
     "output_type": "execute_result"
    }
   ],
   "source": [
    "12/5"
   ]
  },
  {
   "cell_type": "code",
   "execution_count": 12,
   "id": "ae7b22dd",
   "metadata": {},
   "outputs": [
    {
     "data": {
      "text/plain": [
       "2"
      ]
     },
     "execution_count": 12,
     "metadata": {},
     "output_type": "execute_result"
    }
   ],
   "source": [
    "12//5"
   ]
  },
  {
   "cell_type": "code",
   "execution_count": 13,
   "id": "0be5912e",
   "metadata": {},
   "outputs": [
    {
     "data": {
      "text/plain": [
       "8"
      ]
     },
     "execution_count": 13,
     "metadata": {},
     "output_type": "execute_result"
    }
   ],
   "source": [
    "2**3"
   ]
  },
  {
   "cell_type": "code",
   "execution_count": 14,
   "id": "18109396",
   "metadata": {},
   "outputs": [
    {
     "data": {
      "text/plain": [
       "6"
      ]
     },
     "execution_count": 14,
     "metadata": {},
     "output_type": "execute_result"
    }
   ],
   "source": [
    "3*2"
   ]
  },
  {
   "cell_type": "code",
   "execution_count": 15,
   "id": "31b148a2",
   "metadata": {},
   "outputs": [
    {
     "data": {
      "text/plain": [
       "9"
      ]
     },
     "execution_count": 15,
     "metadata": {},
     "output_type": "execute_result"
    }
   ],
   "source": [
    "3**2"
   ]
  },
  {
   "cell_type": "code",
   "execution_count": 16,
   "id": "9bacdf24",
   "metadata": {},
   "outputs": [
    {
     "data": {
      "text/plain": [
       "2"
      ]
     },
     "execution_count": 16,
     "metadata": {},
     "output_type": "execute_result"
    }
   ],
   "source": [
    "12%5"
   ]
  },
  {
   "cell_type": "code",
   "execution_count": 17,
   "id": "02330f29",
   "metadata": {},
   "outputs": [
    {
     "data": {
      "text/plain": [
       "2"
      ]
     },
     "execution_count": 17,
     "metadata": {},
     "output_type": "execute_result"
    }
   ],
   "source": [
    "10%4"
   ]
  },
  {
   "cell_type": "code",
   "execution_count": 18,
   "id": "84c1a161",
   "metadata": {},
   "outputs": [
    {
     "data": {
      "text/plain": [
       "0"
      ]
     },
     "execution_count": 18,
     "metadata": {},
     "output_type": "execute_result"
    }
   ],
   "source": [
    "248%4"
   ]
  },
  {
   "cell_type": "code",
   "execution_count": 19,
   "id": "f4892e9b",
   "metadata": {},
   "outputs": [
    {
     "data": {
      "text/plain": [
       "5"
      ]
     },
     "execution_count": 19,
     "metadata": {},
     "output_type": "execute_result"
    }
   ],
   "source": [
    "245%6"
   ]
  },
  {
   "cell_type": "code",
   "execution_count": 20,
   "id": "7c8d89a2",
   "metadata": {},
   "outputs": [
    {
     "data": {
      "text/plain": [
       "2"
      ]
     },
     "execution_count": 20,
     "metadata": {},
     "output_type": "execute_result"
    }
   ],
   "source": [
    "12//5"
   ]
  },
  {
   "cell_type": "code",
   "execution_count": 21,
   "id": "791910f3",
   "metadata": {},
   "outputs": [
    {
     "data": {
      "text/plain": [
       "1"
      ]
     },
     "execution_count": 21,
     "metadata": {},
     "output_type": "execute_result"
    }
   ],
   "source": [
    "12//9"
   ]
  },
  {
   "cell_type": "code",
   "execution_count": 22,
   "id": "e005c267",
   "metadata": {},
   "outputs": [
    {
     "data": {
      "text/plain": [
       "3.0"
      ]
     },
     "execution_count": 22,
     "metadata": {},
     "output_type": "execute_result"
    }
   ],
   "source": [
    "12/4"
   ]
  },
  {
   "cell_type": "code",
   "execution_count": 23,
   "id": "47553257",
   "metadata": {},
   "outputs": [
    {
     "data": {
      "text/plain": [
       "8.5"
      ]
     },
     "execution_count": 23,
     "metadata": {},
     "output_type": "execute_result"
    }
   ],
   "source": [
    "34/4"
   ]
  },
  {
   "cell_type": "code",
   "execution_count": 24,
   "id": "1980cc7b",
   "metadata": {},
   "outputs": [
    {
     "data": {
      "text/plain": [
       "8"
      ]
     },
     "execution_count": 24,
     "metadata": {},
     "output_type": "execute_result"
    }
   ],
   "source": [
    "34//4"
   ]
  },
  {
   "cell_type": "code",
   "execution_count": 25,
   "id": "a49ebe44",
   "metadata": {},
   "outputs": [
    {
     "data": {
      "text/plain": [
       "True"
      ]
     },
     "execution_count": 25,
     "metadata": {},
     "output_type": "execute_result"
    }
   ],
   "source": [
    "10>2"
   ]
  },
  {
   "cell_type": "code",
   "execution_count": 26,
   "id": "041c28d1",
   "metadata": {},
   "outputs": [
    {
     "data": {
      "text/plain": [
       "True"
      ]
     },
     "execution_count": 26,
     "metadata": {},
     "output_type": "execute_result"
    }
   ],
   "source": [
    "23<45"
   ]
  },
  {
   "cell_type": "code",
   "execution_count": 27,
   "id": "902e31d1",
   "metadata": {},
   "outputs": [
    {
     "data": {
      "text/plain": [
       "False"
      ]
     },
     "execution_count": 27,
     "metadata": {},
     "output_type": "execute_result"
    }
   ],
   "source": [
    "56<12"
   ]
  },
  {
   "cell_type": "code",
   "execution_count": 28,
   "id": "ad7e3e4a",
   "metadata": {},
   "outputs": [
    {
     "data": {
      "text/plain": [
       "True"
      ]
     },
     "execution_count": 28,
     "metadata": {},
     "output_type": "execute_result"
    }
   ],
   "source": [
    "12>=2"
   ]
  },
  {
   "cell_type": "code",
   "execution_count": 29,
   "id": "380c9b1d",
   "metadata": {},
   "outputs": [
    {
     "data": {
      "text/plain": [
       "False"
      ]
     },
     "execution_count": 29,
     "metadata": {},
     "output_type": "execute_result"
    }
   ],
   "source": [
    "16<3"
   ]
  },
  {
   "cell_type": "code",
   "execution_count": 30,
   "id": "f52b19c9",
   "metadata": {},
   "outputs": [
    {
     "data": {
      "text/plain": [
       "True"
      ]
     },
     "execution_count": 30,
     "metadata": {},
     "output_type": "execute_result"
    }
   ],
   "source": [
    "15<=23"
   ]
  },
  {
   "cell_type": "code",
   "execution_count": 31,
   "id": "6c922c33",
   "metadata": {},
   "outputs": [
    {
     "data": {
      "text/plain": [
       "True"
      ]
     },
     "execution_count": 31,
     "metadata": {},
     "output_type": "execute_result"
    }
   ],
   "source": [
    "15>=12"
   ]
  },
  {
   "cell_type": "code",
   "execution_count": null,
   "id": "663af675",
   "metadata": {},
   "outputs": [],
   "source": []
  },
  {
   "cell_type": "code",
   "execution_count": 32,
   "id": "c23dc869",
   "metadata": {},
   "outputs": [],
   "source": [
    "#Arithmetic Operators"
   ]
  },
  {
   "cell_type": "code",
   "execution_count": 33,
   "id": "2467b4d6",
   "metadata": {},
   "outputs": [
    {
     "data": {
      "text/plain": [
       "15"
      ]
     },
     "execution_count": 33,
     "metadata": {},
     "output_type": "execute_result"
    }
   ],
   "source": [
    "12+3"
   ]
  },
  {
   "cell_type": "code",
   "execution_count": 34,
   "id": "a3a2a8a1",
   "metadata": {},
   "outputs": [
    {
     "data": {
      "text/plain": [
       "76"
      ]
     },
     "execution_count": 34,
     "metadata": {},
     "output_type": "execute_result"
    }
   ],
   "source": [
    "79-3"
   ]
  },
  {
   "cell_type": "code",
   "execution_count": 35,
   "id": "46d16fb2",
   "metadata": {},
   "outputs": [
    {
     "data": {
      "text/plain": [
       "20"
      ]
     },
     "execution_count": 35,
     "metadata": {},
     "output_type": "execute_result"
    }
   ],
   "source": [
    "10*2"
   ]
  },
  {
   "cell_type": "code",
   "execution_count": 3,
   "id": "4b468463",
   "metadata": {},
   "outputs": [
    {
     "data": {
      "text/plain": [
       "4.0"
      ]
     },
     "execution_count": 3,
     "metadata": {},
     "output_type": "execute_result"
    }
   ],
   "source": [
    "12/3   "
   ]
  },
  {
   "cell_type": "code",
   "execution_count": 2,
   "id": "098e3853",
   "metadata": {},
   "outputs": [
    {
     "data": {
      "text/plain": [
       "4"
      ]
     },
     "execution_count": 2,
     "metadata": {},
     "output_type": "execute_result"
    }
   ],
   "source": [
    "12//3 #float"
   ]
  },
  {
   "cell_type": "code",
   "execution_count": 40,
   "id": "ba0677c5",
   "metadata": {},
   "outputs": [
    {
     "data": {
      "text/plain": [
       "5.0"
      ]
     },
     "execution_count": 40,
     "metadata": {},
     "output_type": "execute_result"
    }
   ],
   "source": [
    "20/4   #normal division"
   ]
  },
  {
   "cell_type": "code",
   "execution_count": 4,
   "id": "8327a1ce",
   "metadata": {},
   "outputs": [
    {
     "data": {
      "text/plain": [
       "1"
      ]
     },
     "execution_count": 4,
     "metadata": {},
     "output_type": "execute_result"
    }
   ],
   "source": [
    "10%3"
   ]
  },
  {
   "cell_type": "code",
   "execution_count": 42,
   "id": "f549eacd",
   "metadata": {},
   "outputs": [],
   "source": [
    "no1 = 10\n",
    "no2 = 20"
   ]
  },
  {
   "cell_type": "code",
   "execution_count": 43,
   "id": "b65134e0",
   "metadata": {},
   "outputs": [],
   "source": [
    "add = no1+no2"
   ]
  },
  {
   "cell_type": "code",
   "execution_count": 5,
   "id": "0f812234",
   "metadata": {},
   "outputs": [
    {
     "data": {
      "text/plain": [
       "<function print>"
      ]
     },
     "execution_count": 5,
     "metadata": {},
     "output_type": "execute_result"
    }
   ],
   "source": [
    "print"
   ]
  },
  {
   "cell_type": "markdown",
   "id": "84ed3710",
   "metadata": {},
   "source": [
    "special operator\n",
    "1. membership = in , not\n",
    "2. identify = is , is not"
   ]
  },
  {
   "cell_type": "code",
   "execution_count": 45,
   "id": "af8fea2a",
   "metadata": {},
   "outputs": [
    {
     "data": {
      "text/plain": [
       "True"
      ]
     },
     "execution_count": 45,
     "metadata": {},
     "output_type": "execute_result"
    }
   ],
   "source": [
    "'p' in \"python is fun\""
   ]
  },
  {
   "cell_type": "code",
   "execution_count": 46,
   "id": "aad9aff5",
   "metadata": {},
   "outputs": [
    {
     "data": {
      "text/plain": [
       "False"
      ]
     },
     "execution_count": 46,
     "metadata": {},
     "output_type": "execute_result"
    }
   ],
   "source": [
    "'D' not in \"Data science\""
   ]
  },
  {
   "cell_type": "code",
   "execution_count": 48,
   "id": "c0e4bc0b",
   "metadata": {},
   "outputs": [
    {
     "data": {
      "text/plain": [
       "False"
      ]
     },
     "execution_count": 48,
     "metadata": {},
     "output_type": "execute_result"
    }
   ],
   "source": [
    "'d'  in \"Data science\""
   ]
  },
  {
   "cell_type": "code",
   "execution_count": 50,
   "id": "7ae4e41e",
   "metadata": {},
   "outputs": [],
   "source": [
    "l = 'machine learning'"
   ]
  },
  {
   "cell_type": "code",
   "execution_count": 51,
   "id": "3e2f28c0",
   "metadata": {},
   "outputs": [
    {
     "data": {
      "text/plain": [
       "False"
      ]
     },
     "execution_count": 51,
     "metadata": {},
     "output_type": "execute_result"
    }
   ],
   "source": [
    "'g' not in l"
   ]
  },
  {
   "cell_type": "code",
   "execution_count": 52,
   "id": "143acc79",
   "metadata": {},
   "outputs": [
    {
     "data": {
      "text/plain": [
       "True"
      ]
     },
     "execution_count": 52,
     "metadata": {},
     "output_type": "execute_result"
    }
   ],
   "source": [
    "10 in [78 , 90 , 10]"
   ]
  },
  {
   "cell_type": "markdown",
   "id": "a3d3af08",
   "metadata": {},
   "source": [
    "#assignment operator"
   ]
  },
  {
   "cell_type": "markdown",
   "id": "4f5a053d",
   "metadata": {},
   "source": [
    "+=, -= , *= , /= , //= , %="
   ]
  },
  {
   "cell_type": "code",
   "execution_count": 53,
   "id": "7a4094a1",
   "metadata": {},
   "outputs": [],
   "source": [
    "h = 12"
   ]
  },
  {
   "cell_type": "code",
   "execution_count": 54,
   "id": "0e3574c9",
   "metadata": {},
   "outputs": [],
   "source": [
    "h = h+2"
   ]
  },
  {
   "cell_type": "code",
   "execution_count": 55,
   "id": "c0bf3ad3",
   "metadata": {},
   "outputs": [
    {
     "data": {
      "text/plain": [
       "14"
      ]
     },
     "execution_count": 55,
     "metadata": {},
     "output_type": "execute_result"
    }
   ],
   "source": [
    "h"
   ]
  },
  {
   "cell_type": "code",
   "execution_count": 56,
   "id": "85d71ef1",
   "metadata": {},
   "outputs": [],
   "source": [
    "h = h-12"
   ]
  },
  {
   "cell_type": "code",
   "execution_count": 57,
   "id": "f51639ac",
   "metadata": {},
   "outputs": [
    {
     "data": {
      "text/plain": [
       "2"
      ]
     },
     "execution_count": 57,
     "metadata": {},
     "output_type": "execute_result"
    }
   ],
   "source": [
    "h"
   ]
  },
  {
   "cell_type": "code",
   "execution_count": 58,
   "id": "5cf7dbc1",
   "metadata": {},
   "outputs": [],
   "source": [
    "h+=2"
   ]
  },
  {
   "cell_type": "code",
   "execution_count": 59,
   "id": "b17be51a",
   "metadata": {},
   "outputs": [
    {
     "data": {
      "text/plain": [
       "4"
      ]
     },
     "execution_count": 59,
     "metadata": {},
     "output_type": "execute_result"
    }
   ],
   "source": [
    "h"
   ]
  },
  {
   "cell_type": "code",
   "execution_count": 60,
   "id": "4c9c244e",
   "metadata": {},
   "outputs": [],
   "source": [
    "h-=3"
   ]
  },
  {
   "cell_type": "code",
   "execution_count": 61,
   "id": "7817f494",
   "metadata": {},
   "outputs": [
    {
     "data": {
      "text/plain": [
       "1"
      ]
     },
     "execution_count": 61,
     "metadata": {},
     "output_type": "execute_result"
    }
   ],
   "source": [
    "h"
   ]
  },
  {
   "cell_type": "code",
   "execution_count": 64,
   "id": "bc8804ff",
   "metadata": {},
   "outputs": [],
   "source": [
    "h*=4"
   ]
  },
  {
   "cell_type": "code",
   "execution_count": 65,
   "id": "9e00c2cc",
   "metadata": {},
   "outputs": [
    {
     "data": {
      "text/plain": [
       "8"
      ]
     },
     "execution_count": 65,
     "metadata": {},
     "output_type": "execute_result"
    }
   ],
   "source": [
    "h"
   ]
  },
  {
   "cell_type": "code",
   "execution_count": 66,
   "id": "1f32f2e1",
   "metadata": {},
   "outputs": [],
   "source": [
    "h/=4"
   ]
  },
  {
   "cell_type": "code",
   "execution_count": 67,
   "id": "6e055a64",
   "metadata": {},
   "outputs": [
    {
     "data": {
      "text/plain": [
       "2.0"
      ]
     },
     "execution_count": 67,
     "metadata": {},
     "output_type": "execute_result"
    }
   ],
   "source": [
    "h"
   ]
  },
  {
   "cell_type": "code",
   "execution_count": 68,
   "id": "fe66a763",
   "metadata": {},
   "outputs": [],
   "source": [
    "s = 30"
   ]
  },
  {
   "cell_type": "code",
   "execution_count": 69,
   "id": "7a5136bf",
   "metadata": {},
   "outputs": [],
   "source": [
    "s*=4"
   ]
  },
  {
   "cell_type": "code",
   "execution_count": 71,
   "id": "07793174",
   "metadata": {},
   "outputs": [
    {
     "data": {
      "text/plain": [
       "120"
      ]
     },
     "execution_count": 71,
     "metadata": {},
     "output_type": "execute_result"
    }
   ],
   "source": [
    "s"
   ]
  },
  {
   "cell_type": "code",
   "execution_count": 72,
   "id": "8499d728",
   "metadata": {},
   "outputs": [],
   "source": [
    "k = 20\n",
    "j = 15 \n",
    "u = 78"
   ]
  },
  {
   "cell_type": "code",
   "execution_count": 75,
   "id": "1d3fd5d5",
   "metadata": {},
   "outputs": [
    {
     "name": "stdout",
     "output_type": "stream",
     "text": [
      "the first value would be 78 and the second value would be 20 and third value would be 15\n"
     ]
    }
   ],
   "source": [
    "print(\"the first value would be {} and the second value would be {} and third value would be {}\".format(u, k ,j))"
   ]
  },
  {
   "cell_type": "markdown",
   "id": "84229ef3",
   "metadata": {},
   "source": [
    "Control Flow\n",
    "\n",
    "- Method 1 = Conditional statements\n",
    "- Loops ==For LOOP , While LOOPs"
   ]
  },
  {
   "cell_type": "code",
   "execution_count": 1,
   "id": "45130dc0",
   "metadata": {},
   "outputs": [
    {
     "ename": "SyntaxError",
     "evalue": "invalid syntax (2831599833.py, line 2)",
     "output_type": "error",
     "traceback": [
      "\u001b[1;36m  Cell \u001b[1;32mIn[1], line 2\u001b[1;36m\u001b[0m\n\u001b[1;33m    - if elif else\u001b[0m\n\u001b[1;37m      ^\u001b[0m\n\u001b[1;31mSyntaxError\u001b[0m\u001b[1;31m:\u001b[0m invalid syntax\n"
     ]
    }
   ],
   "source": [
    "# Method 1 = conditional statements\n",
    "- if elif else\n",
    "\n",
    "\n",
    "syntax:\n",
    "    \n",
    "if (test expression):\n",
    "    logic/statements\n",
    "    logic/statements\n",
    "    logic/statements\n",
    "    logic/statements\n",
    "    logic/statements\n",
    "elif (test expression):\n",
    "    logic/statements\n",
    "    logic/statements\n",
    "    logic/statements\n",
    "    logic/statements"
   ]
  },
  {
   "cell_type": "code",
   "execution_count": 10,
   "id": "c05f985c",
   "metadata": {},
   "outputs": [
    {
     "name": "stdout",
     "output_type": "stream",
     "text": [
      "enter your age18\n",
      "you are eligible for voting\n",
      "voting is your right\n"
     ]
    }
   ],
   "source": [
    "age = int(input('enter your age')) \n",
    "if age>=18:\n",
    "    print('you are eligible for voting')\n",
    "    print('voting is your right')\n",
    "else:        \n",
    "    #indentation\n",
    "    print(\"you are in college\")\n",
    "    print('you are a kid')"
   ]
  },
  {
   "cell_type": "code",
   "execution_count": 11,
   "id": "7b8247e1",
   "metadata": {
    "scrolled": true
   },
   "outputs": [
    {
     "ename": "SyntaxError",
     "evalue": "invalid syntax (3068748267.py, line 1)",
     "output_type": "error",
     "traceback": [
      "\u001b[1;36m  Cell \u001b[1;32mIn[11], line 1\u001b[1;36m\u001b[0m\n\u001b[1;33m    --elif\u001b[0m\n\u001b[1;37m      ^\u001b[0m\n\u001b[1;31mSyntaxError\u001b[0m\u001b[1;31m:\u001b[0m invalid syntax\n"
     ]
    }
   ],
   "source": [
    "--elif "
   ]
  },
  {
   "cell_type": "code",
   "execution_count": null,
   "id": "c45957df",
   "metadata": {},
   "outputs": [],
   "source": []
  },
  {
   "cell_type": "code",
   "execution_count": 31,
   "id": "1a2fd3ed",
   "metadata": {},
   "outputs": [
    {
     "name": "stdout",
     "output_type": "stream",
     "text": [
      "-19167882\n",
      "its negative\n"
     ]
    }
   ],
   "source": [
    "num = int(input())\n",
    "if num>0:\n",
    "    print(\"its a positive number\")\n",
    "elif num == 0:\n",
    "    print(\"its zero\")\n",
    "else:\n",
    "    print(\"its negative\")"
   ]
  },
  {
   "cell_type": "code",
   "execution_count": null,
   "id": "ad630f95",
   "metadata": {},
   "outputs": [],
   "source": []
  },
  {
   "cell_type": "markdown",
   "id": "60f6de3e",
   "metadata": {},
   "source": [
    "-- Nested if elif else"
   ]
  },
  {
   "cell_type": "code",
   "execution_count": 26,
   "id": "6872f9d7",
   "metadata": {},
   "outputs": [
    {
     "name": "stdout",
     "output_type": "stream",
     "text": [
      "0\n"
     ]
    }
   ],
   "source": [
    "num = int(input())"
   ]
  },
  {
   "cell_type": "code",
   "execution_count": 27,
   "id": "44848cc0",
   "metadata": {},
   "outputs": [
    {
     "name": "stdout",
     "output_type": "stream",
     "text": [
      "its zero\n"
     ]
    }
   ],
   "source": [
    "if num>=0:    \n",
    "    if num==0:\n",
    "        print('its zero')\n",
    "    else:\n",
    "            print(\"positive\")\n",
    "else: \n",
    "    print(\"its negative\")"
   ]
  },
  {
   "cell_type": "code",
   "execution_count": 16,
   "id": "e143012e",
   "metadata": {},
   "outputs": [
    {
     "name": "stdout",
     "output_type": "stream",
     "text": [
      "10000\n"
     ]
    }
   ],
   "source": [
    "spend = int(input())"
   ]
  },
  {
   "cell_type": "code",
   "execution_count": 17,
   "id": "acb2c54c",
   "metadata": {},
   "outputs": [
    {
     "name": "stdout",
     "output_type": "stream",
     "text": [
      "discount 5%\n"
     ]
    }
   ],
   "source": [
    "if spend>10000:\n",
    "    print(\"you are eligible for 10% discount\")\n",
    "elif spend>6000 and spend<=10000:\n",
    "    print(\"discount 5%\")\n",
    "elif spend>4000 and spend<=6000:\n",
    "    print(\"he is a vip customer\")\n",
    "\n",
    "\n"
   ]
  },
  {
   "cell_type": "code",
   "execution_count": 24,
   "id": "b19d1ae5",
   "metadata": {},
   "outputs": [
    {
     "name": "stdout",
     "output_type": "stream",
     "text": [
      "99999\n"
     ]
    }
   ],
   "source": [
    "spend = int(input())"
   ]
  },
  {
   "cell_type": "code",
   "execution_count": 1,
   "id": "e49baa27",
   "metadata": {},
   "outputs": [
    {
     "name": "stdout",
     "output_type": "stream",
     "text": [
      "99999\n",
      "not eligible\n"
     ]
    }
   ],
   "source": [
    "spend = int(input())\n",
    "if spend>99999:\n",
    "    print(\"you are eligible for 10% discount\")\n",
    "elif spend>88888 and spend<=77777:\n",
    "    print(\"eligible for 20%\")\n",
    "elif spend>12345 and spend<=12344:\n",
    "    print(\"eligible for 99%\")\n",
    "else:\n",
    "    print(\"not eligible\")\n",
    "\n"
   ]
  },
  {
   "cell_type": "code",
   "execution_count": null,
   "id": "48977e83",
   "metadata": {},
   "outputs": [],
   "source": []
  },
  {
   "cell_type": "code",
   "execution_count": 1,
   "id": "3ec1dcea",
   "metadata": {},
   "outputs": [
    {
     "name": "stdout",
     "output_type": "stream",
     "text": [
      "20\n"
     ]
    }
   ],
   "source": [
    "\n"
   ]
  },
  {
   "cell_type": "code",
   "execution_count": 5,
   "id": "9754b93c",
   "metadata": {},
   "outputs": [
    {
     "name": "stdout",
     "output_type": "stream",
     "text": [
      "12\n"
     ]
    }
   ],
   "source": [
    "# sum of first n natural numbers\n",
    "n = int(input())\n",
    "s = 0\n",
    "\n",
    "while True:\n",
    "    s+=n\n",
    "    n-=1\n",
    "    \n",
    "    if n==0:\n",
    "        break"
   ]
  },
  {
   "cell_type": "code",
   "execution_count": 6,
   "id": "284d7143",
   "metadata": {},
   "outputs": [
    {
     "data": {
      "text/plain": [
       "78"
      ]
     },
     "execution_count": 6,
     "metadata": {},
     "output_type": "execute_result"
    }
   ],
   "source": [
    "s"
   ]
  },
  {
   "cell_type": "code",
   "execution_count": 9,
   "id": "faabb30f",
   "metadata": {},
   "outputs": [
    {
     "name": "stdout",
     "output_type": "stream",
     "text": [
      "this loop will run forever\n",
      "this loop will run forever\n",
      "this loop will run forever\n",
      "this loop will run forever\n",
      "this loop will run forever\n",
      "this loop will run forever\n",
      "this loop will run forever\n",
      "this loop will run forever\n",
      "this loop will run forever\n",
      "this loop will run forever\n",
      "this loop will run forever\n",
      "this loop will run forever\n",
      "this loop will run forever\n",
      "this loop will run forever\n",
      "this loop will run forever\n",
      "this loop will run forever\n",
      "this loop will run forever\n",
      "this loop will run forever\n",
      "this loop will run forever\n",
      "this loop will run forever\n"
     ]
    }
   ],
   "source": [
    "counter = 0\n",
    "while True:\n",
    "    print(\"this loop will run forever\")\n",
    "    counter+=1\n",
    "    if counter == 20:\n",
    "        break"
   ]
  },
  {
   "cell_type": "code",
   "execution_count": 1,
   "id": "e48b1de6",
   "metadata": {},
   "outputs": [
    {
     "name": "stdout",
     "output_type": "stream",
     "text": [
      "5\n"
     ]
    }
   ],
   "source": [
    "# sum of first n natural numbers\n",
    "n = int(input())"
   ]
  },
  {
   "cell_type": "code",
   "execution_count": 4,
   "id": "9c068b87",
   "metadata": {},
   "outputs": [
    {
     "name": "stdout",
     "output_type": "stream",
     "text": [
      "5\n"
     ]
    }
   ],
   "source": [
    "n = int(input())\n",
    "s_um = 0\n",
    "\n",
    "while True:\n",
    "    s_um+=n\n",
    "    n-=1\n",
    "    \n",
    "    if n==0:\n",
    "        break"
   ]
  },
  {
   "cell_type": "code",
   "execution_count": 5,
   "id": "07607225",
   "metadata": {},
   "outputs": [
    {
     "data": {
      "text/plain": [
       "15"
      ]
     },
     "execution_count": 5,
     "metadata": {},
     "output_type": "execute_result"
    }
   ],
   "source": [
    "s_um"
   ]
  },
  {
   "cell_type": "code",
   "execution_count": 6,
   "id": "dccff080",
   "metadata": {},
   "outputs": [],
   "source": [
    "d = 'Data'"
   ]
  },
  {
   "cell_type": "code",
   "execution_count": 7,
   "id": "8de76a66",
   "metadata": {},
   "outputs": [
    {
     "data": {
      "text/plain": [
       "4"
      ]
     },
     "execution_count": 7,
     "metadata": {},
     "output_type": "execute_result"
    }
   ],
   "source": [
    "len(d)"
   ]
  },
  {
   "cell_type": "code",
   "execution_count": 8,
   "id": "2ef4a397",
   "metadata": {},
   "outputs": [
    {
     "name": "stdout",
     "output_type": "stream",
     "text": [
      "invalid string\n"
     ]
    }
   ],
   "source": [
    "if (len(d)>7):\n",
    "    if \"D\" in d:\n",
    "        print('valid')\n",
    "        print(d.upper())\n",
    "else:\n",
    "    print('invalid string')"
   ]
  },
  {
   "cell_type": "code",
   "execution_count": null,
   "id": "fda6fb9c",
   "metadata": {},
   "outputs": [],
   "source": []
  }
 ],
 "metadata": {
  "kernelspec": {
   "display_name": "Python 3 (ipykernel)",
   "language": "python",
   "name": "python3"
  },
  "language_info": {
   "codemirror_mode": {
    "name": "ipython",
    "version": 3
   },
   "file_extension": ".py",
   "mimetype": "text/x-python",
   "name": "python",
   "nbconvert_exporter": "python",
   "pygments_lexer": "ipython3",
   "version": "3.10.9"
  }
 },
 "nbformat": 4,
 "nbformat_minor": 5
}
